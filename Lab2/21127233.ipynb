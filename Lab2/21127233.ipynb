{
 "cells": [
  {
   "cell_type": "markdown",
   "metadata": {},
   "source": [
    "# <center>PROJECT 2 - IMAGE PROCESSING</center>"
   ]
  },
  {
   "cell_type": "markdown",
   "metadata": {},
   "source": [
    "&nbsp;\n",
    "### I. Sinh viên thực hiện\n",
    "- Họ và tên: Võ Quốc Bình\n",
    "- MSSV: 21127233\n",
    "- Lớp học phần: 21CLC08 - Toán ứng dụng và thống kê cho CNTT"
   ]
  },
  {
   "cell_type": "markdown",
   "metadata": {},
   "source": [
    "### II. Thư viện sử dụng"
   ]
  },
  {
   "cell_type": "code",
   "execution_count": 59,
   "metadata": {},
   "outputs": [],
   "source": [
    "import numpy as np\n",
    "from PIL import Image\n",
    "import matplotlib.pyplot as plt"
   ]
  },
  {
   "cell_type": "markdown",
   "metadata": {},
   "source": [
    "### III. Xử lí đầu vào"
   ]
  },
  {
   "cell_type": "markdown",
   "metadata": {},
   "source": [
    "#### 1. Kiểm tra tên file có trong thư mục không"
   ]
  },
  {
   "cell_type": "code",
   "execution_count": 60,
   "metadata": {},
   "outputs": [],
   "source": [
    "def is_valid_file(file_path):\n",
    "    try:\n",
    "        # Mở file để kiểm tra xem có thể đọc được hay không\n",
    "        with open(file_path, 'r'):\n",
    "            return True\n",
    "    except FileNotFoundError:\n",
    "        # File không tồn tại\n",
    "        return False\n",
    "    except IsADirectoryError:\n",
    "        # Đường dẫn trỏ đến thư mục, không phải là tệp\n",
    "        return False\n",
    "    except:\n",
    "        return False\n"
   ]
  },
  {
   "cell_type": "markdown",
   "metadata": {},
   "source": [
    "#### 2. Nhập tên file"
   ]
  },
  {
   "cell_type": "code",
   "execution_count": 61,
   "metadata": {},
   "outputs": [],
   "source": [
    "def input_data():\n",
    "    # Nhập tên file\n",
    "    while True:\n",
    "        filename = input('Enter name of an image: ')\n",
    "        typefile = filename[len(filename)-3:]\n",
    "        if ((typefile == 'jpg' or typefile == 'png') and (is_valid_file(filename))):\n",
    "            break\n",
    "\n",
    "    # Nhập lựa chọn từ 0 đến 7. Nếu khác giá trị từ 0 đén 7, gán lựa chọn = 0\n",
    "    print(\"Options: \")\n",
    "    print(\"0. All options\")\n",
    "    print(\"1. Change the brightness of image\")\n",
    "    print(\"2. Change the contrast of image\")\n",
    "    print(\"3. Flip image (vertical/horizontal)\")\n",
    "    print(\"4. Convert RGB image to grayscale/sepia\")\n",
    "    print(\"5. Blur/Sharpen image\")\n",
    "    print(\"6. Crop image to size (crop in center)\")\n",
    "    print(\"7. Crop the photo to circular frame\")\n",
    "    print(\"8. Crop the photo to ellipse frame\")\n",
    "\n",
    "    option = int(input(\"Input your option: \"))\n",
    "    if not (option <= 8 and option >= 0):\n",
    "        option = 0\n",
    "\n",
    "    return filename, option\n"
   ]
  },
  {
   "cell_type": "markdown",
   "metadata": {},
   "source": [
    "#### 3. Tiền xử lí"
   ]
  },
  {
   "cell_type": "code",
   "execution_count": 62,
   "metadata": {},
   "outputs": [],
   "source": [
    "def change_to_array(filename):\n",
    "    # Mở hình ảnh\n",
    "    image = Image.open(filename)\n",
    "    # Convert to numpy array (3D matrix)\n",
    "    image_array = np.array(image)\n",
    "    return image_array"
   ]
  },
  {
   "cell_type": "markdown",
   "metadata": {},
   "source": [
    "### IV. Xuất ảnh"
   ]
  },
  {
   "cell_type": "code",
   "execution_count": 63,
   "metadata": {},
   "outputs": [],
   "source": [
    "def output_image(image_array):\n",
    "    image = Image.fromarray(image_array.astype(np.uint8))\n",
    "    return image"
   ]
  },
  {
   "cell_type": "markdown",
   "metadata": {},
   "source": [
    "### V. Lưu ảnh"
   ]
  },
  {
   "cell_type": "code",
   "execution_count": 64,
   "metadata": {},
   "outputs": [],
   "source": [
    "def save_image(image_array, filename, name_process):\n",
    "    image = output_image(image_array)\n",
    "    output_type = filename[len(filename)-3:]\n",
    "    name = filename[:len(filename)-4]\n",
    "\n",
    "    image_save = name + \"_\"+name_process + \".\" + output_type\n",
    "    image.save(image_save)\n"
   ]
  },
  {
   "cell_type": "markdown",
   "metadata": {},
   "source": [
    "### VI. Xử lí các chức năng ảnh"
   ]
  },
  {
   "cell_type": "markdown",
   "metadata": {},
   "source": [
    "#### 1. Thay đổi độ sáng cho ảnh"
   ]
  },
  {
   "cell_type": "code",
   "execution_count": 65,
   "metadata": {},
   "outputs": [],
   "source": [
    "def change_brightness(image_array, brightness=25):\n",
    "    output_image = image_array.copy()\n",
    "\n",
    "    output_image = np.clip(output_image+float(brightness), 0, 255)\n",
    "    return output_image\n"
   ]
  },
  {
   "cell_type": "markdown",
   "metadata": {},
   "source": [
    "#### 2. Thay đổi độ tương phản "
   ]
  },
  {
   "cell_type": "code",
   "execution_count": 66,
   "metadata": {},
   "outputs": [],
   "source": [
    "def change_constract(image_array, contrast=25):\n",
    "    output_image = image_array.copy()\n",
    "\n",
    "    factor = (259 * (255 + contrast)) / (255 * (259 - contrast))\n",
    "    # Điều chỉnh độ tương phản của ảnh\n",
    "    output_image = float(factor)*output_image - (factor-1) * 128\n",
    "\n",
    "    # Giới hạn giá trị pixel trong khoảng từ 0 đến 255\n",
    "    output_image = np.clip(output_image, 0, 255)\n",
    "\n",
    "    return output_image\n"
   ]
  },
  {
   "cell_type": "markdown",
   "metadata": {},
   "source": [
    "#### 3. Lật ảnh"
   ]
  },
  {
   "cell_type": "markdown",
   "metadata": {},
   "source": [
    "##### a. Lật dọc"
   ]
  },
  {
   "cell_type": "code",
   "execution_count": 67,
   "metadata": {},
   "outputs": [],
   "source": [
    "def flip_vertically(image_array):\n",
    "    output_image = image_array[::-1, :]\n",
    "    return output_image\n"
   ]
  },
  {
   "cell_type": "markdown",
   "metadata": {},
   "source": [
    "##### b. Lật ngang"
   ]
  },
  {
   "cell_type": "code",
   "execution_count": 68,
   "metadata": {},
   "outputs": [],
   "source": [
    "def flip_horizontally(image_array):\n",
    "    output_image = image_array[:, ::-1]\n",
    "    return output_image\n"
   ]
  },
  {
   "cell_type": "markdown",
   "metadata": {},
   "source": [
    "#### 4. Chuyển ảnh màu RGB"
   ]
  },
  {
   "cell_type": "markdown",
   "metadata": {},
   "source": [
    "##### a. Màu xám"
   ]
  },
  {
   "cell_type": "code",
   "execution_count": 69,
   "metadata": {},
   "outputs": [],
   "source": [
    "def change_to_grayscale(image_array):\n",
    "    gray_image = np.zeros(image_array.shape)\n",
    "    R = np.array(image_array[:, :, 0])\n",
    "    G = np.array(image_array[:, :, 1])\n",
    "    B = np.array(image_array[:, :, 2])\n",
    "\n",
    "    R = (R * .299)\n",
    "    G = (G * .587)\n",
    "    B = (B * .114)\n",
    "\n",
    "    Avg = (R+G+B)\n",
    "    gray_image = image_array.copy()\n",
    "\n",
    "    for i in range(3):\n",
    "        gray_image[:, :, i] = Avg\n",
    "\n",
    "    return gray_image\n"
   ]
  },
  {
   "cell_type": "markdown",
   "metadata": {},
   "source": [
    "##### b. Màu sepia"
   ]
  },
  {
   "cell_type": "code",
   "execution_count": 70,
   "metadata": {},
   "outputs": [],
   "source": [
    "def change_to_sepia(image_array):\n",
    "    # Create a new array for the sepia tone image\n",
    "    sepia_array = np.empty_like(image_array)\n",
    "    sepia_matrix = np.array([[0.393, 0.769, 0.189],\n",
    "                            [0.349, 0.686, 0.168],\n",
    "                            [0.272, 0.534, 0.131]])\n",
    "\n",
    "    # Apply the sepia transformation to each pixel\n",
    "    sepia_array = image_array[..., :3] @ sepia_matrix.T\n",
    "\n",
    "    # Clip the pixel values to the valid range (0 to 255)\n",
    "    sepia_array = np.clip(sepia_array, 0, 255)\n",
    "    \n",
    "    return sepia_array\n"
   ]
  },
  {
   "cell_type": "markdown",
   "metadata": {},
   "source": [
    "#### 5. Làm mờ/ Làm nét ảnh"
   ]
  },
  {
   "cell_type": "markdown",
   "metadata": {},
   "source": [
    "##### a. Làm mờ ảnh"
   ]
  },
  {
   "cell_type": "code",
   "execution_count": 71,
   "metadata": {},
   "outputs": [],
   "source": [
    "def blur_image(image_array, iteration=1):\n",
    "    blur_kernel = np.array([[[1], [2], [1]],\n",
    "                            [[2], [4], [2]],\n",
    "                            [[1], [2], [1]]])\n",
    "    blur_kernel = blur_kernel/(np.sum(blur_kernel))\n",
    "\n",
    "    output_image = image_array.copy()\n",
    "\n",
    "    for _ in range(iteration):\n",
    "        temp = output_image.copy()\n",
    "        output_image = temp.copy()\n",
    "        cols = image_array.shape[0]\n",
    "        rows = image_array.shape[1]\n",
    "\n",
    "        padded_image = np.zeros(\n",
    "            (output_image.shape[0] + 2, output_image.shape[1] + 2, output_image.shape[2]))\n",
    "        padded_image[1:-1, 1:-1, :] = output_image\n",
    "\n",
    "        for col in range(0, cols):\n",
    "            for row in range(0, rows):\n",
    "                neighbor = padded_image[col:col+3, row:row+3]\n",
    "                output_image[col][row] = (\n",
    "                    neighbor * blur_kernel).sum(axis=1).sum(axis=0)\n",
    "\n",
    "    return output_image\n"
   ]
  },
  {
   "cell_type": "markdown",
   "metadata": {},
   "source": [
    "##### b. Làm sắc nét ảnh"
   ]
  },
  {
   "cell_type": "code",
   "execution_count": 72,
   "metadata": {},
   "outputs": [],
   "source": [
    "def sharpen_image(image_array, iteration=1):\n",
    "    # Define the sharpening kernel (inverse of the blur kernel)\n",
    "    sharpen_kernel = np.array([[[0], [-1], [0]],\n",
    "                            [[-1], [5], [-1]],\n",
    "                            [[0], [-1], [0]]])\n",
    "\n",
    "    output_image = image_array.copy()\n",
    "\n",
    "    for _ in range(iteration):\n",
    "        temp = output_image.copy()\n",
    "        output_image = temp.copy()\n",
    "        cols = image_array.shape[0]\n",
    "        rows = image_array.shape[1]\n",
    "\n",
    "        padded_image = np.zeros(\n",
    "            (output_image.shape[0] + 2, output_image.shape[1] + 2, output_image.shape[2]))\n",
    "        padded_image[1:-1, 1:-1, :] = output_image\n",
    "\n",
    "        for col in range(0, cols):\n",
    "            for row in range(0, rows):\n",
    "                neighbor = padded_image[col:col + 3, row:row + 3]\n",
    "                output_image[col][row] = np.clip((\n",
    "                    neighbor * sharpen_kernel).sum(axis=1).sum(axis=0),0,255)\n",
    "\n",
    "    return output_image\n"
   ]
  },
  {
   "cell_type": "markdown",
   "metadata": {},
   "source": [
    "#### 6. Cắt hình ở trung tâm"
   ]
  },
  {
   "cell_type": "code",
   "execution_count": 73,
   "metadata": {},
   "outputs": [],
   "source": [
    "def crop_center(image_array):\n",
    "    edge_size = int(min(image_array.shape[0],image_array.shape[1])/2)\n",
    "\n",
    "    height, width = image_array.shape[:2]\n",
    "\n",
    "    start_h = (height - edge_size) // 2\n",
    "    start_w = (width - edge_size) // 2\n",
    "\n",
    "    cropped_image = image_array[start_h:start_h +\n",
    "                                edge_size, start_w:start_w+edge_size]\n",
    "\n",
    "    return cropped_image\n"
   ]
  },
  {
   "cell_type": "markdown",
   "metadata": {},
   "source": [
    "#### 7. Cắt hình tròn"
   ]
  },
  {
   "cell_type": "code",
   "execution_count": 74,
   "metadata": {},
   "outputs": [],
   "source": [
    "def crop_circle(image_array):\n",
    "    # get the picture frame\n",
    "    edge_size = int(min(image_array.shape[0], image_array.shape[1]))\n",
    "\n",
    "    # get the size of original picture\n",
    "    height, width = image_array.shape[:2]\n",
    "\n",
    "    start_h = (height - edge_size) // 2\n",
    "    start_w = (width - edge_size) // 2\n",
    "\n",
    "    cropped_image = image_array[start_h:start_h +\n",
    "                                edge_size, start_w:start_w+edge_size]\n",
    "\n",
    "    # create a matrix to mark element int circle frame\n",
    "    mask = np.zeros_like(cropped_image, dtype=bool)\n",
    "    radius = edge_size//2\n",
    "    center = (radius, radius)\n",
    "    for y in range(edge_size):\n",
    "        for x in range(edge_size):\n",
    "            # formula circle area: (x-a)^2 + (y-b)^2 <= r^2\n",
    "            if (x - center[1])**2 + (y - center[0])**2 <= radius**2:\n",
    "                mask[y, x] = True\n",
    "\n",
    "    # apply the mask to the image\n",
    "    cropped_image[~mask] = 0\n",
    "\n",
    "    return cropped_image\n"
   ]
  },
  {
   "cell_type": "markdown",
   "metadata": {},
   "source": [
    "#### 8. Cắt 2 hình ellipse chéo nhau"
   ]
  },
  {
   "cell_type": "code",
   "execution_count": 75,
   "metadata": {},
   "outputs": [],
   "source": [
    "def crop_two_cross_ellipse(image_array):\n",
    "    # get the picture frame\n",
    "    edge_size = int(min(image_array.shape[0], image_array.shape[1]))\n",
    "\n",
    "    # get the size of original picture\n",
    "    height, width = image_array.shape[:2]\n",
    "\n",
    "    start_h = (height - edge_size) // 2\n",
    "    start_w = (width - edge_size) // 2\n",
    "\n",
    "    cropped_image = image_array[start_h:start_h +\n",
    "                                edge_size, start_w:start_w+edge_size]\n",
    "\n",
    "    # create a matrix to mark element int circle frame\n",
    "    mask = np.zeros_like(cropped_image, dtype=bool)\n",
    "    radius = edge_size/2\n",
    "    center = (radius, radius)\n",
    "\n",
    "    major_axis = radius*1.25\n",
    "    minor_axis = radius*0.671875\n",
    "    angle_radians_prime = np.deg2rad(45)\n",
    "    angle_radians_sub = np.deg2rad(-45)\n",
    "\n",
    "    # crop prime ellipse\n",
    "    for y in range(edge_size):\n",
    "        for x in range(edge_size):\n",
    "            distance_1 = ((x-center[0])*np.cos(angle_radians_prime) +\n",
    "                          (y-center[1])*np.sin(angle_radians_prime))**2/minor_axis**2\n",
    "            distance_2 = ((x-center[0])*np.sin(angle_radians_prime) -\n",
    "                          (y-center[1])*np.cos(angle_radians_prime))**2/major_axis**2\n",
    "\n",
    "            if(distance_1+distance_2) <= 1:\n",
    "                mask[y, x] = True\n",
    "\n",
    "    # crop sub ellipse\n",
    "    for y in range(edge_size):\n",
    "        for x in range(edge_size):\n",
    "            distance_1 = ((x-center[0])*np.sin(angle_radians_sub) +\n",
    "                          (y-center[1])*np.cos(angle_radians_sub))**2/minor_axis**2\n",
    "            distance_2 = ((x-center[0])*np.cos(angle_radians_sub) -\n",
    "                          (y-center[1])*np.sin(angle_radians_sub))**2/major_axis**2\n",
    "\n",
    "            if(distance_1+distance_2) <= 1:\n",
    "                mask[y, x] = True\n",
    "\n",
    "    # apply the mask to the image\n",
    "    cropped_image[~mask] = 0\n",
    "\n",
    "    return cropped_image\n"
   ]
  },
  {
   "cell_type": "markdown",
   "metadata": {},
   "source": [
    "### VII. Xử lí các lựa chọn"
   ]
  },
  {
   "cell_type": "code",
   "execution_count": 76,
   "metadata": {},
   "outputs": [],
   "source": [
    "def handle_option_0(filename):\n",
    "    direction = input(\"In option 3 choose type flip (vertical or horizontal):\")\n",
    "    if direction == \"vertical\":\n",
    "        direction = direction\n",
    "    else:\n",
    "        direction = \"horizontal\"\n",
    "    handle_option_1(filename)\n",
    "    handle_option_2(filename)\n",
    "    handle_option_3(filename, direction)\n",
    "    handle_option_4(filename)\n",
    "    handle_option_5(filename)\n",
    "    handle_option_6(filename)\n",
    "    handle_option_7(filename)\n",
    "    handle_option_8(filename)\n",
    "\n",
    "\n",
    "def handle_option_1(filename):\n",
    "    image_array = change_to_array(filename)\n",
    "    output_image = change_brightness(image_array)\n",
    "    save_image(output_image, filename, \"brightness\")\n",
    "\n",
    "\n",
    "def handle_option_2(filename):\n",
    "    image_array = change_to_array(filename)\n",
    "    output_image = change_constract(image_array)\n",
    "    save_image(output_image, filename, \"constract\")\n",
    "\n",
    "\n",
    "def handle_option_3(filename, direction):\n",
    "    if direction == \"vertical\":\n",
    "        image_array = change_to_array(filename)\n",
    "        output_image = flip_vertically(image_array)\n",
    "        save_image(output_image, filename, \"vertical\")\n",
    "    else:\n",
    "        image_array = change_to_array(filename)\n",
    "        output_image = flip_horizontally(image_array)\n",
    "        save_image(output_image, filename, \"horizontal\")\n",
    "\n",
    "\n",
    "def handle_option_4(filename):\n",
    "    image_array = change_to_array(filename)\n",
    "    output_image = change_to_grayscale(image_array)\n",
    "    save_image(output_image, filename, \"grayscale\")\n",
    "    \n",
    "    image_array = change_to_array(filename)\n",
    "    output_image = change_to_sepia(image_array)\n",
    "    save_image(output_image, filename, \"sepia\")\n",
    "\n",
    "\n",
    "def handle_option_5(filename):\n",
    "    image_array = change_to_array(filename)\n",
    "    output_image = blur_image(image_array)\n",
    "    save_image(output_image, filename, \"blur\")\n",
    "\n",
    "    image_array = change_to_array(filename)\n",
    "    output_image = sharpen_image(image_array)\n",
    "    save_image(output_image, filename, \"sharpen\")\n",
    "\n",
    "\n",
    "def handle_option_6(filename):\n",
    "    image_array = change_to_array(filename)\n",
    "    output_image = crop_center(image_array)\n",
    "    save_image(output_image, filename, \"crop_center\")\n",
    "\n",
    "\n",
    "def handle_option_7(filename):\n",
    "    image_array = change_to_array(filename)\n",
    "    output_image = crop_circle(image_array)\n",
    "    save_image(output_image, filename, \"circle\")\n",
    "\n",
    "\n",
    "def handle_option_8(filename):\n",
    "    image_array = change_to_array(filename)\n",
    "    output_image = crop_two_cross_ellipse(image_array)\n",
    "    save_image(output_image, filename, \"ellipse_cross\")\n"
   ]
  },
  {
   "cell_type": "markdown",
   "metadata": {},
   "source": [
    "### VIII. Hàm main demo chương trình"
   ]
  },
  {
   "cell_type": "code",
   "execution_count": 77,
   "metadata": {},
   "outputs": [
    {
     "name": "stdout",
     "output_type": "stream",
     "text": [
      "Options: \n",
      "0. All options\n",
      "1. Change the brightness of image\n",
      "2. Change the contrast of image\n",
      "3. Flip image (vertical/horizontal)\n",
      "4. Convert RGB image to grayscale/sepia\n",
      "5. Blur/Sharpen image\n",
      "6. Crop image to size (crop in center)\n",
      "7. Crop the photo to circular frame\n",
      "8. Crop the photo to ellipse frame\n"
     ]
    }
   ],
   "source": [
    "def main():\n",
    "    filename, option = input_data()\n",
    "    if option == 0:\n",
    "        handle_option_0(filename)\n",
    "    elif option == 1:\n",
    "        handle_option_1(filename)\n",
    "    elif option == 2:\n",
    "        handle_option_2(filename)\n",
    "    elif option == 3:\n",
    "        direction = input(\n",
    "            \"In option 3 choose type flip (vertical or horizontal):\")\n",
    "        if direction == \"vertical\":\n",
    "            direction = direction\n",
    "        else:\n",
    "            direction = \"horizontal\"\n",
    "        handle_option_3(filename, direction)\n",
    "    elif option == 4:\n",
    "        handle_option_4(filename)\n",
    "    elif option == 5:\n",
    "        handle_option_5(filename)\n",
    "    elif option == 6:\n",
    "        handle_option_6(filename)\n",
    "    elif option == 7:\n",
    "        handle_option_7(filename)\n",
    "    elif option == 8:\n",
    "        handle_option_8(filename)\n",
    "\n",
    "\n",
    "main()\n"
   ]
  }
 ],
 "metadata": {
  "kernelspec": {
   "display_name": "base",
   "language": "python",
   "name": "python3"
  },
  "language_info": {
   "codemirror_mode": {
    "name": "ipython",
    "version": 3
   },
   "file_extension": ".py",
   "mimetype": "text/x-python",
   "name": "python",
   "nbconvert_exporter": "python",
   "pygments_lexer": "ipython3",
   "version": "3.10.9"
  },
  "orig_nbformat": 4
 },
 "nbformat": 4,
 "nbformat_minor": 2
}
