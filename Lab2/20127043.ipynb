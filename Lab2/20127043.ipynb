{
 "cells": [
  {
   "cell_type": "markdown",
   "metadata": {},
   "source": [
    "### Personal Information\n",
    "- ID:     20127043\n",
    "- Name:   Nguyen Thoai Dang Khoa\n",
    "- Class:  20CLC08"
   ]
  },
  {
   "cell_type": "markdown",
   "metadata": {},
   "source": [
    "### Import Library"
   ]
  },
  {
   "cell_type": "code",
   "execution_count": 1,
   "metadata": {},
   "outputs": [],
   "source": [
    "import numpy as np\n",
    "import matplotlib.pyplot as plt \n",
    "import math\n",
    "from PIL import Image"
   ]
  },
  {
   "cell_type": "markdown",
   "metadata": {},
   "source": [
    "### Open an image and convert to numpy arrays"
   ]
  },
  {
   "cell_type": "code",
   "execution_count": 2,
   "metadata": {},
   "outputs": [],
   "source": [
    "def openImg():\n",
    "  # Input \n",
    "  img = input('Enter name of an image: ')\n",
    "  # Open img\n",
    "  image = Image.open(img).convert(\"RGB\")\n",
    "  # Convert to numpy arrays (3d matrix)\n",
    "  image = np.array(image)\n",
    "  return image, img"
   ]
  },
  {
   "cell_type": "markdown",
   "metadata": {},
   "source": [
    "### Change the brightness\n"
   ]
  },
  {
   "cell_type": "code",
   "execution_count": 3,
   "metadata": {},
   "outputs": [],
   "source": [
    "def changeTheBrightness(image, bright = 50):\n",
    "  # make a hard copy\n",
    "  outputImage = image.copy()\n",
    "  # shape decay\n",
    "  rows = outputImage.shape[0]\n",
    "  cols = outputImage.shape[1]\n",
    "  channels = outputImage.shape[2]\n",
    "  # adjust the brightness\n",
    "  for y in range(rows):\n",
    "    for x in range(cols):\n",
    "        for c in range(channels):\n",
    "          if (outputImage[y,x,c] + bright > 255):\n",
    "            outputImage[y,x,c] = 255\n",
    "          elif (outputImage[y,x,c] + bright < 0):\n",
    "            outputImage[y,x,c] = 0\n",
    "          else:\n",
    "            outputImage[y,x,c] += bright \n",
    "  return outputImage"
   ]
  },
  {
   "cell_type": "markdown",
   "metadata": {},
   "source": [
    "### Change the contrast"
   ]
  },
  {
   "cell_type": "code",
   "execution_count": 4,
   "metadata": {},
   "outputs": [],
   "source": [
    "def changeTheContrast(image, contrast = 50): \n",
    "  # make a hard copy\n",
    "  outputImage = image.copy()\n",
    "  # shape decay\n",
    "  rows = outputImage.shape[0]\n",
    "  cols = outputImage.shape[1]\n",
    "  channels = outputImage.shape[2]\n",
    "  # adjust the contrast\n",
    "  factor = (259 * (contrast + 255)) / (255 * (259 - contrast))\n",
    "  actual_contrast = 0\n",
    "  for y in range(rows):\n",
    "    for x in range(cols):\n",
    "        for c in range(channels):\n",
    "          actual_contrast = factor*(outputImage[y,x,c] - 128) + 128\n",
    "          if (actual_contrast > 255):\n",
    "            outputImage[y,x,c] = 255\n",
    "          elif (actual_contrast < 0):\n",
    "            outputImage[y,x,c] = 0\n",
    "          else:\n",
    "            outputImage[y,x,c] = actual_contrast\n",
    "  return outputImage\n",
    "  "
   ]
  },
  {
   "cell_type": "markdown",
   "metadata": {},
   "source": [
    "### Grayscale to RGB Conversion"
   ]
  },
  {
   "cell_type": "code",
   "execution_count": 5,
   "metadata": {},
   "outputs": [],
   "source": [
    "def weightedGrayscaleMethod(colors):\n",
    "    return (0.299*colors[0] + 0.587*colors[1] + 0.114*colors[2])\n",
    "\n",
    "def avgGrayscaleMethod(colors):\n",
    "    return (colors[0] + colors[1] + colors[2])/3\n",
    "\n",
    "def convertToGrayscale(image, method = \"weighted\"):\n",
    "  # make a hard copy\n",
    "  outputImage = image.copy()\n",
    "  # shape decay\n",
    "  rows = outputImage.shape[0]\n",
    "  cols = outputImage.shape[1]\n",
    "  # convert to grayscale\n",
    "  for i in range(rows): \n",
    "    for j in range(cols): \n",
    "        if (method == \"weighted\"):\n",
    "            outputImage[i][j] = weightedGrayscaleMethod(outputImage[i][j])\n",
    "        else:\n",
    "            outputImage[i][j] = avgGrayscaleMethod(outputImage[i][j])\n",
    "  return outputImage\n"
   ]
  },
  {
   "cell_type": "markdown",
   "metadata": {},
   "source": [
    "### Flipping Image"
   ]
  },
  {
   "cell_type": "code",
   "execution_count": 6,
   "metadata": {},
   "outputs": [],
   "source": [
    "def flippingImage(image, flipping_type = \"vertically\"): \n",
    "  # make a hard copy\n",
    "  outputImage = image.copy()\n",
    "  # flipping image\n",
    "  if (flipping_type == \"vertically\"): outputImage = list(reversed(outputImage)) # flip vertically\n",
    "  else:\n",
    "    outputImage = [list(reversed(row)) for row in outputImage] # flip horizontally\n",
    "  return np.array(outputImage)\n"
   ]
  },
  {
   "cell_type": "markdown",
   "metadata": {},
   "source": [
    "### Blending Image"
   ]
  },
  {
   "cell_type": "code",
   "execution_count": 7,
   "metadata": {},
   "outputs": [],
   "source": [
    "def blendingImage(image_1, image_2, alpha = 0.5):\n",
    "  # initialize outputImage with 0\n",
    "  outputImage = np.zeros(image_1.shape)\n",
    "  # shape decay\n",
    "  rows = image_1.shape[0]\n",
    "  cols = image_1.shape[1]\n",
    "  for i in range(rows):\n",
    "    for j in range(cols):\n",
    "      outputImage[i][j] = image_1[i][j] * (1.0 - alpha) + image_2[i][j] * alpha\n",
    "  return outputImage"
   ]
  },
  {
   "cell_type": "markdown",
   "metadata": {},
   "source": [
    "### Blur an image"
   ]
  },
  {
   "cell_type": "code",
   "execution_count": 8,
   "metadata": {},
   "outputs": [],
   "source": [
    "# Box Blur kernel\n",
    "box_kernel = [[1 / 9, 1 / 9, 1 / 9],\n",
    "              [1 / 9, 1 / 9, 1 / 9],\n",
    "              [1 / 9, 1 / 9, 1 / 9]]\n",
    "\n",
    "# Gaussian kernel\n",
    "gaussian_kernel = [[1/16, 1/8, 1/16],\n",
    "                   [1/8, 1/4, 1/8],\n",
    "                   [1/16, 1/8, 1/16]]\n",
    "\n",
    "def blurringImage(image, kernel_type = \"box_blur\"): \n",
    "  # make a hard copy\n",
    "  outputImage = image.copy()\n",
    "  rows = outputImage.shape[0]\n",
    "  cols = outputImage.shape[1]\n",
    "  # create kernel\n",
    "  if (kernel_type == \"gauss_3x3\"): kernel = gaussian_kernel\n",
    "  else: kernel = box_kernel\n",
    "  # Middle of the kernel\n",
    "  mid_kernel = len(kernel) // 2\n",
    "  kernel_size = len(kernel) \n",
    "  # Processing\n",
    "  for i in range(mid_kernel, rows - mid_kernel):\n",
    "      for j in range(mid_kernel, cols - mid_kernel):\n",
    "          accumulator = np.array([0,0,0])\n",
    "          for a in range(kernel_size):\n",
    "              for b in range(kernel_size):\n",
    "                  accumulator = accumulator + kernel[a][b]*image[i - mid_kernel + a][j - mid_kernel + b]\n",
    "          outputImage[i][j] = accumulator\n",
    "  return outputImage"
   ]
  },
  {
   "cell_type": "markdown",
   "metadata": {},
   "source": [
    "### Crop image into Circle"
   ]
  },
  {
   "cell_type": "code",
   "execution_count": 9,
   "metadata": {},
   "outputs": [],
   "source": [
    "def cropImageIntoCircle(image):\n",
    "  # make a hard copy\n",
    "  outputImage = image.copy()\n",
    "  # shape decay\n",
    "  rows = outputImage.shape[0]\n",
    "  cols = outputImage.shape[1]\n",
    "  channels = outputImage.shape[2]\n",
    "  # radius\n",
    "  a,b = rows / 2, cols / 2 \n",
    "  # processing\n",
    "  for i in range(rows):\n",
    "    for j in range(cols):\n",
    "      if (i - a) **2 + (j - b)**2 > (rows*cols)/4:\n",
    "        for k in range(channels):\n",
    "          outputImage[i,j,k] = 0\n",
    "  return outputImage"
   ]
  },
  {
   "cell_type": "markdown",
   "metadata": {},
   "source": [
    "### Cropp image into Ellipse"
   ]
  },
  {
   "cell_type": "code",
   "execution_count": 10,
   "metadata": {},
   "outputs": [],
   "source": [
    "def cropImageIntoEllipse(image):\n",
    "  # make a hard copy\n",
    "  outputImage = image.copy()\n",
    "  # shape decay\n",
    "  rows = outputImage.shape[0]\n",
    "  cols = outputImage.shape[1]\n",
    "  channels = outputImage.shape[2]\n",
    "  # ellipse center at (h,k)\n",
    "  h,k = rows / 2, cols / 2\n",
    "  # calculate factor\n",
    "  a_factor = 1.25 # 316:256\n",
    "  b_factor = 0.671875 # 172:256\n",
    "  # calculate semi-major axis a and semi-minor axis b by multiplying factor\n",
    "  a = h * a_factor\n",
    "  b = k * b_factor\n",
    "  # processing\n",
    "  for i in range(rows):\n",
    "    for j in range(cols):\n",
    "      relativePosOfFirstEllipse = (math.cos(math.pi/4) ** 2 / a ** 2 + math.sin(math.pi/4) ** 2 / b ** 2)*(j - h)**2 + 2*math.cos(math.pi/4)*math.sin(math.pi/4)*(1/a**2 - 1/b**2)*(j - h)*(i - k) + (math.sin(math.pi/4) ** 2 / a ** 2 + math.cos(math.pi/4) ** 2 / b ** 2)*(i - k)**2\n",
    "      relavetivePosOfsecondEllipse = (math.cos(-math.pi/4) ** 2 / a ** 2 + math.sin(-math.pi/4) ** 2 / b ** 2)*(j - h)**2 + 2*math.cos(-math.pi/4)*math.sin(-math.pi/4)*(1/a**2 - 1/b**2)*(j - h)*(i - k) + ( math.sin(-math.pi/4) ** 2 / a ** 2 + math.cos(-math.pi/4) ** 2 / b ** 2)*(i - k)**2\n",
    "      if (relativePosOfFirstEllipse > 1 and relavetivePosOfsecondEllipse > 1): \n",
    "        for m in range(channels):\n",
    "          outputImage[i,j,m] = 0\n",
    "  return outputImage"
   ]
  },
  {
   "cell_type": "markdown",
   "metadata": {},
   "source": [
    "### Displaying Images"
   ]
  },
  {
   "cell_type": "code",
   "execution_count": 11,
   "metadata": {},
   "outputs": [],
   "source": [
    "# display 2 images side by side\n",
    "def plot_two_images(img1, img2):\n",
    "  _, ax = plt.subplots(1, 2, figsize=(20, 20))\n",
    "  ax[0].imshow(img1)\n",
    "  ax[0].axis('off')  # hide axis \n",
    "  ax[0].set_title('Original Image', fontsize = 16, fontweight = 'bold')\n",
    "  ax[1].imshow(img2)\n",
    "  ax[1].axis('off') # hide axis\n",
    "  ax[1].set_title('Processed Image', fontsize = 16, fontweight = 'bold') \n",
    "\n",
    "# display 3 images side by side\n",
    "def plot_three_images(img1, img2, img3):\n",
    "  _, ax = plt.subplots(1, 3, figsize=(20, 20))\n",
    "  ax[0].imshow(img1)\n",
    "  ax[0].axis('off')  # hide axis \n",
    "  ax[0].set_title('First Image', fontsize = 16, fontweight = 'bold')\n",
    "  ax[1].imshow(img2)\n",
    "  ax[1].axis('off') # hide axis\n",
    "  ax[1].set_title('Second Image', fontsize = 16, fontweight = 'bold')\n",
    "  ax[2].imshow(img3)\n",
    "  ax[2].axis('off') # hide axis\n",
    "  ax[2].set_title('Processed Image', fontsize = 16, fontweight = 'bold')"
   ]
  },
  {
   "cell_type": "markdown",
   "metadata": {},
   "source": [
    "### Export to file"
   ]
  },
  {
   "cell_type": "code",
   "execution_count": 12,
   "metadata": {},
   "outputs": [],
   "source": [
    "def exportToFile(imageName, handleType, outputImage):\n",
    "  imageName = imageName.split('.')\n",
    "  outputImageName = f\"{imageName[0]}_{handleType}.{imageName[1]}\"\n",
    "  Image.fromarray(outputImage.astype(np.uint8)).save(outputImageName)"
   ]
  },
  {
   "cell_type": "markdown",
   "metadata": {},
   "source": [
    "### Post-processing (display image, export image)"
   ]
  },
  {
   "cell_type": "code",
   "execution_count": 13,
   "metadata": {},
   "outputs": [],
   "source": [
    "def postProcessing(inputImage,outputImage, handleType, imageName):\n",
    "  # display images\n",
    "  plot_two_images(inputImage, outputImage)\n",
    "  # Export to file\n",
    "  exportToFile(imageName,handleType, outputImage)\n",
    "  print(\"Image was successfully proccessed.\")\n",
    "\n",
    "\n",
    "\n",
    "def postProcessingForBending(inputImage1, inputImage2, outputImage, handleType, imageName1, imageName2):\n",
    "   # display images\n",
    "  plot_three_images(inputImage1,inputImage2,outputImage)\n",
    "  # Export to file\n",
    "  imageName1 = imageName1.split('.')\n",
    "  imageName2 = imageName2.split('.')\n",
    "  outputImageName = f\"{imageName1[0]}_{imageName2[0]}_{handleType}.{imageName2[1]}\"\n",
    "  Image.fromarray(outputImage.astype(np.uint8)).save(outputImageName)\n",
    "  print(\"Image was successfully proccessed.\")\n",
    "\n"
   ]
  },
  {
   "cell_type": "markdown",
   "metadata": {},
   "source": [
    "### Create a menu and handle option"
   ]
  },
  {
   "cell_type": "code",
   "execution_count": 14,
   "metadata": {},
   "outputs": [],
   "source": [
    "menu_choices = {\n",
    "    0: 'All Options',\n",
    "    1: 'Adjust Brightness Of Image',\n",
    "    2: 'Adjust Contrast Of Image',\n",
    "    3: 'Flip An Image (Vertically / Horizontally)',\n",
    "    4: 'Convert An RGB Image To A Grayscale',\n",
    "    5: 'Blend Overlapping Images',\n",
    "    6: 'Blur An Image',\n",
    "    7: 'Crop An Image Into Circle',\n",
    "    8: 'Crop An Image Into Ellipse',\n",
    "    9: 'Exit'\n",
    "}\n",
    "\n",
    "def create_menu():\n",
    "    for key in menu_choices.keys():\n",
    "        print (f\"{key}. {menu_choices[key]}\")\n",
    "    print(\"=================================================\")\n",
    "\n",
    "\n",
    "# handle option 1\n",
    "def option1_handle(inputImage):\n",
    "    print(f\"Handle option 1. {menu_choices[1]}\")\n",
    "    bright = int(input('Enter the image brightness (from 255 to -255). If you choose 0, default 50 will be applied: '))\n",
    "    if (bright != 0): outputImage = changeTheBrightness(inputImage, bright)\n",
    "    else: outputImage = changeTheBrightness(inputImage)\n",
    "    return outputImage\n",
    "   \n",
    "\n",
    "\n",
    "# handle option 2\n",
    "def option2_handle(inputImage):\n",
    "   print(f\"Handle option 2. {menu_choices[2]}\")\n",
    "   contrast = int(input('Enter the image contrast (from 127 to -127). If you choose 0, default 50 will be applied: '))\n",
    "   if (contrast != 0): outputImage = changeTheContrast(inputImage, contrast)\n",
    "   else: outputImage = changeTheContrast(inputImage)\n",
    "   return outputImage\n",
    "\n",
    "\n",
    "# handle option 3\n",
    "def option3_handle(inputImage):\n",
    "   print(f\"Handle option 3. {menu_choices[3]}\")\n",
    "   while True:\n",
    "        flip_type = input(\"Enter type you want to flip an image (horizontally / vertically): \")\n",
    "        if (flip_type == \"horizontally\" or flip_type == \"vertically\"): break\n",
    "   outputImage = flippingImage(inputImage, flip_type)\n",
    "   return outputImage, flip_type\n",
    "\n",
    "\n",
    "\n",
    "# handle option 4\n",
    "def option4_handle(inputImage):\n",
    "   print(f\"Handle option 4. {menu_choices[4]}\")\n",
    "   while True:\n",
    "     method = input(\"Enter method you want to convert to a grayscale (average / weighted). If you choose 0, default mode will be applied: \")\n",
    "     if (method == \"average\" or method == \"weighted\" or method == \"0\"): break\n",
    "   if (method == \"0\"): outputImage = convertToGrayscale(inputImage)\n",
    "   else: outputImage = convertToGrayscale(inputImage, method)\n",
    "   return outputImage\n",
    "\n",
    "\n",
    "\n",
    "\n",
    "# handle option 5\n",
    "def option5_handle(inputImage1, imageName1):\n",
    "    print(f\"Handle option 5. {menu_choices[5]}\")\n",
    "    print(f\"Size of image 1: {inputImage1.shape[1]} x {inputImage1.shape[0]}\")\n",
    "    print(\"The size image 2 should be the same as the size of image 1.\")\n",
    "    # Open img\n",
    "    imageName2 = input('Enter name of an image 2: ')\n",
    "    inputImage2 = Image.open(imageName2).convert(\"RGB\")\n",
    "    # if size of 2 images is not compatible with each other \n",
    "    # Convert to numpy arrays (3d matrix)\n",
    "    inputImage2 = np.array(inputImage2)\n",
    "\n",
    "    # convert 2 images to gray\n",
    "    inputImage1 = convertToGrayscale(inputImage1)\n",
    "    inputImage2 = convertToGrayscale(inputImage2)\n",
    "\n",
    "    # blending 2 images\n",
    "    outputImage = blendingImage(inputImage1, inputImage2).astype(np.uint8)\n",
    "    return inputImage1, inputImage2, outputImage, imageName1, imageName2\n",
    "\n",
    "# handle option 6\n",
    "def option6_handle(inputImage):\n",
    "   print(f\"Handle option 6. {menu_choices[6]}\")\n",
    "   while True:\n",
    "     kernel = input(\"Enter type of kernel used for blurring (box_blur / gauss_3x3). If you choose 0, default mode will be applied: \")\n",
    "     if (kernel == \"box_blur\" or kernel == \"gauss_3x3\" or kernel == \"0\"): break\n",
    "   if (kernel == \"0\"): outputImage = blurringImage(inputImage)\n",
    "   else: outputImage = blurringImage(inputImage, kernel)\n",
    "   return outputImage\n",
    "   \n",
    "# handle option 7\n",
    "def option7_handle(inputImage):\n",
    "   print(f\"Handle option 7. {menu_choices[7]}\")\n",
    "   outputImage = cropImageIntoCircle(inputImage)\n",
    "   return outputImage\n",
    "\n",
    "# handle option 8\n",
    "def option8_handle(inputImage):\n",
    "   print(f\"Handle option 8. {menu_choices[8]}\")\n",
    "   outputImage = cropImageIntoEllipse(inputImage)\n",
    "   return outputImage\n",
    "\n",
    "\n",
    "# handle all options\n",
    "def option_handle_all(inputImage, imageName):\n",
    "  # handle option 1\n",
    "  outputImage = option1_handle(inputImage)\n",
    "  exportToFile(imageName,\"bright\", outputImage)\n",
    "  print('Option 1 finished!')\n",
    "\n",
    "  # handle option 2\n",
    "  outputImage = option2_handle(inputImage)\n",
    "  exportToFile(imageName,\"contrast\", outputImage)\n",
    "  print('Option 2 finished!')\n",
    "\n",
    "  # handle option 3\n",
    "  outputImage, flip_type = option3_handle(inputImage)\n",
    "  exportToFile(imageName,f\"flip_{flip_type}\", outputImage)\n",
    "  print('Option 3 finished!')\n",
    "  \n",
    "  # handle option 4\n",
    "  outputImage = option4_handle(inputImage)\n",
    "  exportToFile(imageName,\"gray\", outputImage)\n",
    "  print('Option 4 finished!')\n",
    "\n",
    "  # handle option 5\n",
    "  inputImage1, inputImage2, outputImage, imageName1, imageName2 = option5_handle(outputImage, imageName)\n",
    "  imageName2 = imageName2.split('.')\n",
    "  imageName1 = imageName1.split('.')\n",
    "  outputImageName = f\"{imageName1[0]}_{imageName2[0]}.{imageName2[1]}\"\n",
    "  exportToFile(outputImageName,\"blending\", outputImage)\n",
    "  print('Option 5 finished!')\n",
    "\n",
    "  # handle option 6\n",
    "  outputImage = option6_handle(inputImage)\n",
    "  exportToFile(imageName,\"blur\", outputImage)\n",
    "  print('Option 6 finished!')\n",
    "\n",
    "  # handle option 7\n",
    "  outputImage = option7_handle(inputImage)\n",
    "  exportToFile(imageName,\"circle\", outputImage)\n",
    "  print('Option 7 finished!')\n",
    "\n",
    "  # handle option 8\n",
    "  outputImage = option8_handle(inputImage)\n",
    "  exportToFile(imageName,\"ellipse\", outputImage)\n",
    "  print('Option 8 finished!')"
   ]
  },
  {
   "cell_type": "markdown",
   "metadata": {},
   "source": [
    "### Main Function"
   ]
  },
  {
   "cell_type": "code",
   "execution_count": 15,
   "metadata": {},
   "outputs": [
    {
     "name": "stdout",
     "output_type": "stream",
     "text": [
      "0. All Options\n",
      "1. Adjust Brightness Of Image\n",
      "2. Adjust Contrast Of Image\n",
      "3. Flip An Image (Vertically / Horizontally)\n",
      "4. Convert An RGB Image To A Grayscale\n",
      "5. Blend Overlapping Images\n",
      "6. Blur An Image\n",
      "7. Crop An Image Into Circle\n",
      "8. Crop An Image Into Ellipse\n",
      "9. Exit\n",
      "=================================================\n",
      "Wrong input. Please enter a number between 0 and 7.\n"
     ]
    },
    {
     "ename": "KeyboardInterrupt",
     "evalue": "Interrupted by user",
     "output_type": "error",
     "traceback": [
      "\u001b[1;31m---------------------------------------------------------------------------\u001b[0m",
      "\u001b[1;31mKeyboardInterrupt\u001b[0m                         Traceback (most recent call last)",
      "Cell \u001b[1;32mIn[15], line 45\u001b[0m\n\u001b[0;32m     42\u001b[0m         \u001b[39mprint\u001b[39m(\u001b[39m'\u001b[39m\u001b[39mInvalid option. Please enter a number between 0 and 7.\u001b[39m\u001b[39m'\u001b[39m)\n\u001b[0;32m     44\u001b[0m \u001b[39m# calling main function\u001b[39;00m\n\u001b[1;32m---> 45\u001b[0m main()\n",
      "Cell \u001b[1;32mIn[15], line 11\u001b[0m, in \u001b[0;36mmain\u001b[1;34m()\u001b[0m\n\u001b[0;32m      9\u001b[0m     \u001b[39mprint\u001b[39m(\u001b[39m'\u001b[39m\u001b[39mWrong input. Please enter a number between 0 and 7.\u001b[39m\u001b[39m'\u001b[39m)\n\u001b[0;32m     10\u001b[0m \u001b[39m#Check what option was inputted and execute accordingly\u001b[39;00m\n\u001b[1;32m---> 11\u001b[0m inputImage, imageName \u001b[39m=\u001b[39m openImg()\n\u001b[0;32m     12\u001b[0m \u001b[39mif\u001b[39;00m option \u001b[39m==\u001b[39m \u001b[39m0\u001b[39m:\n\u001b[0;32m     13\u001b[0m     option_handle_all(inputImage, imageName)\n",
      "Cell \u001b[1;32mIn[2], line 3\u001b[0m, in \u001b[0;36mopenImg\u001b[1;34m()\u001b[0m\n\u001b[0;32m      1\u001b[0m \u001b[39mdef\u001b[39;00m \u001b[39mopenImg\u001b[39m():\n\u001b[0;32m      2\u001b[0m   \u001b[39m# Input \u001b[39;00m\n\u001b[1;32m----> 3\u001b[0m   img \u001b[39m=\u001b[39m \u001b[39minput\u001b[39;49m(\u001b[39m'\u001b[39;49m\u001b[39mEnter name of an image: \u001b[39;49m\u001b[39m'\u001b[39;49m)\n\u001b[0;32m      4\u001b[0m   \u001b[39m# Open img\u001b[39;00m\n\u001b[0;32m      5\u001b[0m   image \u001b[39m=\u001b[39m Image\u001b[39m.\u001b[39mopen(img)\u001b[39m.\u001b[39mconvert(\u001b[39m\"\u001b[39m\u001b[39mRGB\u001b[39m\u001b[39m\"\u001b[39m)\n",
      "File \u001b[1;32mc:\\Users\\Precision 5550\\anaconda3\\lib\\site-packages\\ipykernel\\kernelbase.py:1175\u001b[0m, in \u001b[0;36mKernel.raw_input\u001b[1;34m(self, prompt)\u001b[0m\n\u001b[0;32m   1171\u001b[0m \u001b[39mif\u001b[39;00m \u001b[39mnot\u001b[39;00m \u001b[39mself\u001b[39m\u001b[39m.\u001b[39m_allow_stdin:\n\u001b[0;32m   1172\u001b[0m     \u001b[39mraise\u001b[39;00m StdinNotImplementedError(\n\u001b[0;32m   1173\u001b[0m         \u001b[39m\"\u001b[39m\u001b[39mraw_input was called, but this frontend does not support input requests.\u001b[39m\u001b[39m\"\u001b[39m\n\u001b[0;32m   1174\u001b[0m     )\n\u001b[1;32m-> 1175\u001b[0m \u001b[39mreturn\u001b[39;00m \u001b[39mself\u001b[39;49m\u001b[39m.\u001b[39;49m_input_request(\n\u001b[0;32m   1176\u001b[0m     \u001b[39mstr\u001b[39;49m(prompt),\n\u001b[0;32m   1177\u001b[0m     \u001b[39mself\u001b[39;49m\u001b[39m.\u001b[39;49m_parent_ident[\u001b[39m\"\u001b[39;49m\u001b[39mshell\u001b[39;49m\u001b[39m\"\u001b[39;49m],\n\u001b[0;32m   1178\u001b[0m     \u001b[39mself\u001b[39;49m\u001b[39m.\u001b[39;49mget_parent(\u001b[39m\"\u001b[39;49m\u001b[39mshell\u001b[39;49m\u001b[39m\"\u001b[39;49m),\n\u001b[0;32m   1179\u001b[0m     password\u001b[39m=\u001b[39;49m\u001b[39mFalse\u001b[39;49;00m,\n\u001b[0;32m   1180\u001b[0m )\n",
      "File \u001b[1;32mc:\\Users\\Precision 5550\\anaconda3\\lib\\site-packages\\ipykernel\\kernelbase.py:1217\u001b[0m, in \u001b[0;36mKernel._input_request\u001b[1;34m(self, prompt, ident, parent, password)\u001b[0m\n\u001b[0;32m   1214\u001b[0m             \u001b[39mbreak\u001b[39;00m\n\u001b[0;32m   1215\u001b[0m \u001b[39mexcept\u001b[39;00m \u001b[39mKeyboardInterrupt\u001b[39;00m:\n\u001b[0;32m   1216\u001b[0m     \u001b[39m# re-raise KeyboardInterrupt, to truncate traceback\u001b[39;00m\n\u001b[1;32m-> 1217\u001b[0m     \u001b[39mraise\u001b[39;00m \u001b[39mKeyboardInterrupt\u001b[39;00m(\u001b[39m\"\u001b[39m\u001b[39mInterrupted by user\u001b[39m\u001b[39m\"\u001b[39m) \u001b[39mfrom\u001b[39;00m \u001b[39mNone\u001b[39m\n\u001b[0;32m   1218\u001b[0m \u001b[39mexcept\u001b[39;00m \u001b[39mException\u001b[39;00m:\n\u001b[0;32m   1219\u001b[0m     \u001b[39mself\u001b[39m\u001b[39m.\u001b[39mlog\u001b[39m.\u001b[39mwarning(\u001b[39m\"\u001b[39m\u001b[39mInvalid Message:\u001b[39m\u001b[39m\"\u001b[39m, exc_info\u001b[39m=\u001b[39m\u001b[39mTrue\u001b[39;00m)\n",
      "\u001b[1;31mKeyboardInterrupt\u001b[0m: Interrupted by user"
     ]
    }
   ],
   "source": [
    "import sys\n",
    "def main():\n",
    "   #while(True):\n",
    "    create_menu()\n",
    "    option = ''\n",
    "    try:\n",
    "        option = int(input('Enter your choice: '))\n",
    "    except:\n",
    "        print('Wrong input. Please enter a number between 0 and 7.')\n",
    "    #Check what option was inputted and execute accordingly\n",
    "    inputImage, imageName = openImg()\n",
    "    if option == 0:\n",
    "        option_handle_all(inputImage, imageName)\n",
    "    elif option == 1:\n",
    "        outputImage = option1_handle(inputImage) # handle option 1\n",
    "        postProcessing(inputImage,outputImage,\"bright\",imageName) # post-processing\n",
    "    elif option == 2:\n",
    "        outputImage = option2_handle(inputImage) # handle option 2\n",
    "        postProcessing(inputImage,outputImage,\"contrast\",imageName) # post-processing\n",
    "    elif option == 3:\n",
    "        outputImage, flip_type = option3_handle(inputImage) # handle option 3\n",
    "        postProcessing(inputImage,outputImage,f\"flip_{flip_type}\",imageName) # post-processing\n",
    "    elif option == 4:\n",
    "        outputImage = option4_handle(inputImage) # handle option 4\n",
    "        postProcessing(inputImage,outputImage,\"gray\",imageName) # post-processing\n",
    "    elif option == 5:\n",
    "        inputImage1, inputImage2, outputImage, imageName1, imageName2 = option5_handle(inputImage, imageName) # handle option 5\n",
    "        postProcessingForBending(inputImage1, inputImage2, outputImage, \"blending\", imageName1, imageName2) # post-processing\n",
    "    elif option == 6:\n",
    "        outputImage = option6_handle(inputImage) # handle option 6\n",
    "        postProcessing(inputImage,outputImage,\"blur\",imageName) # post-processing\n",
    "    elif option == 7:\n",
    "        outputImage = option7_handle(inputImage) # handle option 7\n",
    "        postProcessing(inputImage, outputImage, \"circle\", imageName)  # post-processing\n",
    "    elif option == 8:\n",
    "        outputImage = option8_handle(inputImage) # handle option 8\n",
    "        postProcessing(inputImage, outputImage, \"ellipse\", imageName) # post-processing\n",
    "    elif option == 9:\n",
    "        print('Thank you for your time!')\n",
    "        sys.exit()\n",
    "    else:\n",
    "        print('Invalid option. Please enter a number between 0 and 7.')\n",
    "\n",
    "# calling main function\n",
    "main()"
   ]
  }
 ],
 "metadata": {
  "kernelspec": {
   "display_name": "Python 3 (ipykernel)",
   "language": "python",
   "name": "python3"
  },
  "language_info": {
   "codemirror_mode": {
    "name": "ipython",
    "version": 3
   },
   "file_extension": ".py",
   "mimetype": "text/x-python",
   "name": "python",
   "nbconvert_exporter": "python",
   "pygments_lexer": "ipython3",
   "version": "3.10.9"
  },
  "vscode": {
   "interpreter": {
    "hash": "9ed98053d0cbb40e87837c90a21c47b008a5c5d935ef522e34b6baa7f3639f23"
   }
  }
 },
 "nbformat": 4,
 "nbformat_minor": 2
}
